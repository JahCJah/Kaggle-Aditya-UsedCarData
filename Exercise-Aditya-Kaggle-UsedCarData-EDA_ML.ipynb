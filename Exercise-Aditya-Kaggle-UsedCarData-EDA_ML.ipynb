{
 "cells": [
  {
   "cell_type": "markdown",
   "id": "257cc2a1",
   "metadata": {},
   "source": [
    "# India's Used Car Market: EDA and ML on Used Car Prices\n"
   ]
  },
  {
   "cell_type": "markdown",
   "id": "5fe3077d",
   "metadata": {},
   "source": [
    "### Importing Packages to be Used\n"
   ]
  },
  {
   "cell_type": "code",
   "execution_count": 1,
   "id": "b5f470bf",
   "metadata": {},
   "outputs": [],
   "source": [
    "import numpy as np\n",
    "import matplotlib as plt\n",
    "import seaborn as sn\n",
    "import sklearn\n",
    "import pandas as pd"
   ]
  },
  {
   "cell_type": "markdown",
   "id": "c64e5791",
   "metadata": {},
   "source": [
    "### Importing DataSets to be Used"
   ]
  },
  {
   "cell_type": "code",
   "execution_count": 2,
   "id": "3305d18d",
   "metadata": {},
   "outputs": [],
   "source": [
    "## These are the datasets from Aditya which were uploaded to github for easier use\n",
    "audiurl = 'https://github.com/JahCJah/Kaggle-Aditya-UsedCarData/blob/main/audi.csv'\n",
    "bmwurl = 'https://github.com/JahCJah/Kaggle-Aditya-UsedCarData/blob/main/bmw.csv'\n",
    "cclassurl = 'https://github.com/JahCJah/Kaggle-Aditya-UsedCarData/blob/main/cclass.csv'\n",
    "focusurl = 'https://github.com/JahCJah/Kaggle-Aditya-UsedCarData/blob/main/focus.csv'\n",
    "fordurl = 'https://github.com/JahCJah/Kaggle-Aditya-UsedCarData/blob/main/ford.csv'\n",
    "hyundaiurl = 'https://github.com/JahCJah/Kaggle-Aditya-UsedCarData/blob/main/hyundi.csv'\n",
    "mercurl = 'https://github.com/JahCJah/Kaggle-Aditya-UsedCarData/blob/main/merc.csv'\n",
    "skodaurl = 'https://github.com/JahCJah/Kaggle-Aditya-UsedCarData/blob/main/skoda.csv'\n",
    "toyotaurl = 'https://github.com/JahCJah/Kaggle-Aditya-UsedCarData/blob/main/toyota.csv'\n",
    "vauxhallurl = 'https://github.com/JahCJah/Kaggle-Aditya-UsedCarData/blob/main/vauxhall.csv'\n",
    "vwurl = 'https://github.com/JahCJah/Kaggle-Aditya-UsedCarData/blob/main/vw.csv'\n",
    "\n",
    "##Alternatively, these are the datasets in my local directory, in case there is an internet outage.\n",
    "# Edit the paths to match wherever you have downloaded the datasets\n",
    "# use ctrl+/ to comment or uncomment\n",
    "\n",
    "# audiurl = 'C:\\Users\\JahJah Callanta\\Documents\\ADMU\\Internship Documents\\Aditya Kaggle\\Aditya-Kaggle-Git\\Kaggle-Aditya-UsedCarData\\audi.csv'\n",
    "# bmwurl = 'C:\\Users\\JahJah Callanta\\Documents\\ADMU\\Internship Documents\\Aditya Kaggle\\Aditya-Kaggle-Git\\Kaggle-Aditya-UsedCarData\\bmw.csv'\n",
    "# cclassurl = 'C:\\Users\\JahJah Callanta\\Documents\\ADMU\\Internship Documents\\Aditya Kaggle\\Aditya-Kaggle-Git\\Kaggle-Aditya-UsedCarData\\cclass.csv'\n",
    "# focusurl = 'C:\\Users\\JahJah Callanta\\Documents\\ADMU\\Internship Documents\\Aditya Kaggle\\Aditya-Kaggle-Git\\Kaggle-Aditya-UsedCarData\\focus.csv'\n",
    "# fordurl = 'C:\\Users\\JahJah Callanta\\Documents\\ADMU\\Internship Documents\\Aditya Kaggle\\Aditya-Kaggle-Git\\Kaggle-Aditya-UsedCarData\\ford.csv'\n",
    "# hyundaiurl = 'C:\\Users\\JahJah Callanta\\Documents\\ADMU\\Internship Documents\\Aditya Kaggle\\Aditya-Kaggle-Git\\Kaggle-Aditya-UsedCarData\\hyundi.csv'\n",
    "# mercurl = 'C:\\Users\\JahJah Callanta\\Documents\\ADMU\\Internship Documents\\Aditya Kaggle\\Aditya-Kaggle-Git\\Kaggle-Aditya-UsedCarData\\merc.csv'\n",
    "# skodaurl = 'C:\\Users\\JahJah Callanta\\Documents\\ADMU\\Internship Documents\\Aditya Kaggle\\Aditya-Kaggle-Git\\Kaggle-Aditya-UsedCarData\\skoda.csv'\n",
    "# toyotaurl = 'C:\\Users\\JahJah Callanta\\Documents\\ADMU\\Internship Documents\\Aditya Kaggle\\Aditya-Kaggle-Git\\Kaggle-Aditya-UsedCarData\\toyota.csv'\n",
    "# vauxhallurl = 'C:\\Users\\JahJah Callanta\\Documents\\ADMU\\Internship Documents\\Aditya Kaggle\\Aditya-Kaggle-Git\\Kaggle-Aditya-UsedCarData\\vauxhall.csv'\n",
    "# vwurl = 'C:\\Users\\JahJah Callanta\\Documents\\ADMU\\Internship Documents\\Aditya Kaggle\\Aditya-Kaggle-Git\\Kaggle-Aditya-UsedCarData\\vw.csv'"
   ]
  },
  {
   "cell_type": "markdown",
   "id": "b4ac37db",
   "metadata": {},
   "source": [
    "### Converting csv files to dataframes\n"
   ]
  },
  {
   "cell_type": "code",
   "execution_count": 3,
   "id": "136d370a",
   "metadata": {},
   "outputs": [
    {
     "name": "stderr",
     "output_type": "stream",
     "text": [
      "C:\\Users\\JahJah Callanta\\anaconda3\\envs\\lenagsa\\lib\\site-packages\\IPython\\core\\interactiveshell.py:3165: DtypeWarning: Columns (3) have mixed types.Specify dtype option on import or set low_memory=False.\n",
      "  has_raised = await self.run_ast_nodes(code_ast.body, cell_name,\n"
     ]
    }
   ],
   "source": [
    "## these are the functions we will use to convert dtypes if need be\n",
    "#------#\n",
    "def convert_dtype_str(x):\n",
    "    if not x:\n",
    "        return ''\n",
    "    try:\n",
    "        return str(x)   \n",
    "    except:        \n",
    "        return ''\n",
    "\n",
    "def convert_dtype_int(x):\n",
    "    if not x:\n",
    "        return ''\n",
    "    try:\n",
    "        return int(x)   \n",
    "    except:        \n",
    "        return ''\n",
    "    \n",
    "def convert_dtype_float(x):\n",
    "    if not x:\n",
    "        return ''\n",
    "    try:\n",
    "        return float(x)   \n",
    "    except:        \n",
    "        return ''\n",
    "\n",
    "def convert_dtype_datetime(x):\n",
    "    if not x:\n",
    "        return ''\n",
    "    try:\n",
    "        return datetime(x)   \n",
    "    except:        \n",
    "        return ''\n",
    "#-----#\n",
    "\n",
    "col_names = ['model','year','price','transmission','mileage','fuelType','tax','mpg','engineSize']\n",
    "audidf = pd.read_csv(audiurl,names=col_names, converters={'model': convert_dtype_str,'year': convert_dtype_datetime,'price': convert_dtype_float,'tramsmission': convert_dtype_str,'mileage': convert_dtype_int,'fuelType': convert_dtype_str,'tax': convert_dtype_int,'mpg': convert_dtype_float,'engineSize': convert_dtype_float})\n",
    "bmwidf = pd.read_csv(bmwurl,names=col_names, converters={'model': convert_dtype_str,'year': convert_dtype_datetime,'price': convert_dtype_float,'tramsmission': convert_dtype_str,'mileage': convert_dtype_int,'fuelType': convert_dtype_str,'tax': convert_dtype_int,'mpg': convert_dtype_float,'engineSize': convert_dtype_float})\n",
    "cclassdf = pd.read_csv(cclassurl,names=col_names, converters={'model': convert_dtype_str,'year': convert_dtype_datetime,'price': convert_dtype_float,'tramsmission': convert_dtype_str,'mileage': convert_dtype_int,'fuelType': convert_dtype_str,'tax': convert_dtype_int,'mpg': convert_dtype_float,'engineSize': convert_dtype_float})\n",
    "focusdf = pd.read_csv(focusurl,names=col_names, converters={'model': convert_dtype_str,'year': convert_dtype_datetime,'price': convert_dtype_float,'tramsmission': convert_dtype_str,'mileage': convert_dtype_int,'fuelType': convert_dtype_str,'tax': convert_dtype_int,'mpg': convert_dtype_float,'engineSize': convert_dtype_float})\n",
    "forddf = pd.read_csv(fordurl,names=col_names, converters={'model': convert_dtype_str,'year': convert_dtype_datetime,'price': convert_dtype_float,'tramsmission': convert_dtype_str,'mileage': convert_dtype_int,'fuelType': convert_dtype_str,'tax': convert_dtype_int,'mpg': convert_dtype_float,'engineSize': convert_dtype_float})\n",
    "hyundaidf = pd.read_csv(hyundaiurl,names=col_names, converters={'model': convert_dtype_str,'year': convert_dtype_datetime,'price': convert_dtype_float,'tramsmission': convert_dtype_str,'mileage': convert_dtype_int,'fuelType': convert_dtype_str,'tax': convert_dtype_int,'mpg': convert_dtype_float,'engineSize': convert_dtype_float})\n",
    "mercdf = pd.read_csv(mercurl,names=col_names, converters={'model': convert_dtype_str,'year': convert_dtype_datetime,'price': convert_dtype_float,'tramsmission': convert_dtype_str,'mileage': convert_dtype_int,'fuelType': convert_dtype_str,'tax': convert_dtype_int,'mpg': convert_dtype_float,'engineSize': convert_dtype_float})\n",
    "skodadf = pd.read_csv(skodaurl,names=col_names, converters={'model': convert_dtype_str,'year': convert_dtype_datetime,'price': convert_dtype_float,'tramsmission': convert_dtype_str,'mileage': convert_dtype_int,'fuelType': convert_dtype_str,'tax': convert_dtype_int,'mpg': convert_dtype_float,'engineSize': convert_dtype_float})\n",
    "toyotadf = pd.read_csv(toyotaurl,names=col_names, converters={'model': convert_dtype_str,'year': convert_dtype_datetime,'price': convert_dtype_float,'tramsmission': convert_dtype_str,'mileage': convert_dtype_int,'fuelType': convert_dtype_str,'tax': convert_dtype_int,'mpg': convert_dtype_float,'engineSize': convert_dtype_float})\n",
    "vauxhalldf = pd.read_csv(vauxhallurl,names=col_names, converters={'model': convert_dtype_str,'year': convert_dtype_datetime,'price': convert_dtype_float,'tramsmission': convert_dtype_str,'mileage': convert_dtype_int,'fuelType': convert_dtype_str,'tax': convert_dtype_int,'mpg': convert_dtype_float,'engineSize': convert_dtype_float})\n",
    "vwdf = pd.read_csv(vwurl,names=col_names, converters={'model': convert_dtype_str,'year': convert_dtype_datetime,'price': convert_dtype_float,'tramsmission': convert_dtype_str,'mileage': convert_dtype_int,'fuelType': convert_dtype_str,'tax': convert_dtype_int,'mpg': convert_dtype_float,'engineSize': convert_dtype_float})"
   ]
  },
  {
   "cell_type": "code",
   "execution_count": null,
   "id": "9c51d772",
   "metadata": {},
   "outputs": [],
   "source": []
  }
 ],
 "metadata": {
  "kernelspec": {
   "display_name": "Python 3",
   "language": "python",
   "name": "python3"
  },
  "language_info": {
   "codemirror_mode": {
    "name": "ipython",
    "version": 3
   },
   "file_extension": ".py",
   "mimetype": "text/x-python",
   "name": "python",
   "nbconvert_exporter": "python",
   "pygments_lexer": "ipython3",
   "version": "3.8.10"
  }
 },
 "nbformat": 4,
 "nbformat_minor": 5
}
