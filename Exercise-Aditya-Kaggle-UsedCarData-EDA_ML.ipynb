{
 "cells": [
  {
   "cell_type": "markdown",
   "id": "257cc2a1",
   "metadata": {},
   "source": [
    "# India's Used Car Market: EDA and ML on Used Car Prices\n"
   ]
  },
  {
   "cell_type": "markdown",
   "id": "5fe3077d",
   "metadata": {},
   "source": [
    "### Importing Packages to be Used\n"
   ]
  },
  {
   "cell_type": "code",
   "execution_count": 1,
   "id": "b5f470bf",
   "metadata": {},
   "outputs": [],
   "source": [
    "import numpy as np\n",
    "import matplotlib as plt\n",
    "import seaborn as sn\n",
    "import sklearn\n",
    "import pandas as pd"
   ]
  },
  {
   "cell_type": "markdown",
   "id": "c64e5791",
   "metadata": {},
   "source": [
    "### Importing DataSets to be Used"
   ]
  },
  {
   "cell_type": "code",
   "execution_count": 2,
   "id": "3305d18d",
   "metadata": {},
   "outputs": [],
   "source": [
    "## These are the datasets from Aditya which were uploaded to github for easier use\n",
    "# audiurl = 'https://github.com/JahCJah/Kaggle-Aditya-UsedCarData/blob/main/audi.csv'\n",
    "# bmwurl = 'https://github.com/JahCJah/Kaggle-Aditya-UsedCarData/blob/main/bmw.csv'\n",
    "# cclassurl = 'https://github.com/JahCJah/Kaggle-Aditya-UsedCarData/blob/main/cclass.csv'\n",
    "# focusurl = 'https://github.com/JahCJah/Kaggle-Aditya-UsedCarData/blob/main/focus.csv'\n",
    "# fordurl = 'https://github.com/JahCJah/Kaggle-Aditya-UsedCarData/blob/main/ford.csv'\n",
    "# hyundaiurl = 'https://github.com/JahCJah/Kaggle-Aditya-UsedCarData/blob/main/hyundi.csv'\n",
    "# mercurl = 'https://github.com/JahCJah/Kaggle-Aditya-UsedCarData/blob/main/merc.csv'\n",
    "# skodaurl = 'https://github.com/JahCJah/Kaggle-Aditya-UsedCarData/blob/main/skoda.csv'\n",
    "# toyotaurl = 'https://github.com/JahCJah/Kaggle-Aditya-UsedCarData/blob/main/toyota.csv'\n",
    "# vauxhallurl = 'https://github.com/JahCJah/Kaggle-Aditya-UsedCarData/blob/main/vauxhall.csv'\n",
    "# vwurl = 'https://github.com/JahCJah/Kaggle-Aditya-UsedCarData/blob/main/vw.csv'\n",
    "\n",
    "##Alternatively, these are the datasets in my local directory, in case there is an internet outage.\n",
    "# Edit the paths to match wherever you have downloaded the datasets\n",
    "# use ctrl+/ to comment or uncomment\n",
    "\n",
    "audiurl = r'C:\\Users\\JahJah Callanta\\Documents\\ADMU\\Internship Documents\\Aditya Kaggle\\Aditya-Kaggle-Git\\Kaggle-Aditya-UsedCarData\\audi.csv'\n",
    "bmwurl = r'C:\\Users\\JahJah Callanta\\Documents\\ADMU\\Internship Documents\\Aditya Kaggle\\Aditya-Kaggle-Git\\Kaggle-Aditya-UsedCarData\\bmw.csv'\n",
    "cclassurl = r'C:\\Users\\JahJah Callanta\\Documents\\ADMU\\Internship Documents\\Aditya Kaggle\\Aditya-Kaggle-Git\\Kaggle-Aditya-UsedCarData\\cclass.csv'\n",
    "focusurl = r'C:\\Users\\JahJah Callanta\\Documents\\ADMU\\Internship Documents\\Aditya Kaggle\\Aditya-Kaggle-Git\\Kaggle-Aditya-UsedCarData\\focus.csv'\n",
    "fordurl = r'C:\\Users\\JahJah Callanta\\Documents\\ADMU\\Internship Documents\\Aditya Kaggle\\Aditya-Kaggle-Git\\Kaggle-Aditya-UsedCarData\\ford.csv'\n",
    "hyundaiurl = r'C:\\Users\\JahJah Callanta\\Documents\\ADMU\\Internship Documents\\Aditya Kaggle\\Aditya-Kaggle-Git\\Kaggle-Aditya-UsedCarData\\hyundi.csv'\n",
    "mercurl = r'C:\\Users\\JahJah Callanta\\Documents\\ADMU\\Internship Documents\\Aditya Kaggle\\Aditya-Kaggle-Git\\Kaggle-Aditya-UsedCarData\\merc.csv'\n",
    "skodaurl = r'C:\\Users\\JahJah Callanta\\Documents\\ADMU\\Internship Documents\\Aditya Kaggle\\Aditya-Kaggle-Git\\Kaggle-Aditya-UsedCarData\\skoda.csv'\n",
    "toyotaurl = r'C:\\Users\\JahJah Callanta\\Documents\\ADMU\\Internship Documents\\Aditya Kaggle\\Aditya-Kaggle-Git\\Kaggle-Aditya-UsedCarData\\toyota.csv'\n",
    "vauxhallurl = r'C:\\Users\\JahJah Callanta\\Documents\\ADMU\\Internship Documents\\Aditya Kaggle\\Aditya-Kaggle-Git\\Kaggle-Aditya-UsedCarData\\vauxhall.csv'\n",
    "vwurl = r'C:\\Users\\JahJah Callanta\\Documents\\ADMU\\Internship Documents\\Aditya Kaggle\\Aditya-Kaggle-Git\\Kaggle-Aditya-UsedCarData\\vw.csv'\n",
    "##there is an \"r\" before each of the paths to convert the regular string into a raw string, so that python can read the path"
   ]
  },
  {
   "cell_type": "markdown",
   "id": "b4ac37db",
   "metadata": {},
   "source": [
    "### Converting csv files to dataframes\n"
   ]
  },
  {
   "cell_type": "code",
   "execution_count": 3,
   "id": "136d370a",
   "metadata": {},
   "outputs": [],
   "source": [
    "## these are the functions we will use to convert dtypes if need be\n",
    "#------#\n",
    "def convert_dtype_str(x):\n",
    "    if not x:\n",
    "        return ''\n",
    "    try:\n",
    "        return str(x)   \n",
    "    except:        \n",
    "        return ''\n",
    "\n",
    "def convert_dtype_int(x):\n",
    "    if not x:\n",
    "        return ''\n",
    "    try:\n",
    "        return int(x)   \n",
    "    except:        \n",
    "        return ''\n",
    "    \n",
    "def convert_dtype_float(x):\n",
    "    if not x:\n",
    "        return ''\n",
    "    try:\n",
    "        return float(x)   \n",
    "    except:        \n",
    "        return ''\n",
    "\n",
    "def convert_dtype_datetime(x):\n",
    "    if not x:\n",
    "        return ''\n",
    "    try:\n",
    "        return datetime(x)   \n",
    "    except:        \n",
    "        return ''\n",
    "#-----#\n",
    "\n",
    "col_names = ['model','year','price','transmission','mileage','fuelType','tax','mpg','engineSize']\n",
    "audidf = pd.read_csv(audiurl,names=col_names, converters={'model': convert_dtype_str,'year': convert_dtype_datetime,'price': convert_dtype_float,'transmission': convert_dtype_str,'mileage': convert_dtype_int,'fuelType': convert_dtype_str,'tax': convert_dtype_int,'mpg': convert_dtype_float,'engineSize': convert_dtype_float})\n",
    "bmwdf = pd.read_csv(bmwurl,names=col_names, converters={'model': convert_dtype_str,'year': convert_dtype_datetime,'price': convert_dtype_float,'transmission': convert_dtype_str,'mileage': convert_dtype_int,'fuelType': convert_dtype_str,'tax': convert_dtype_int,'mpg': convert_dtype_float,'engineSize': convert_dtype_float})\n",
    "cclassdf = pd.read_csv(cclassurl,names=col_names, converters={'model': convert_dtype_str,'year': convert_dtype_datetime,'price': convert_dtype_float,'transmission': convert_dtype_str,'mileage': convert_dtype_int,'fuelType': convert_dtype_str,'tax': convert_dtype_int,'mpg': convert_dtype_float,'engineSize': convert_dtype_float})\n",
    "focusdf = pd.read_csv(focusurl,names=col_names, converters={'model': convert_dtype_str,'year': convert_dtype_datetime,'price': convert_dtype_float,'transmission': convert_dtype_str,'mileage': convert_dtype_int,'fuelType': convert_dtype_str,'tax': convert_dtype_int,'mpg': convert_dtype_float,'engineSize': convert_dtype_float})\n",
    "forddf = pd.read_csv(fordurl,names=col_names, converters={'model': convert_dtype_str,'year': convert_dtype_datetime,'price': convert_dtype_float,'transmission': convert_dtype_str,'mileage': convert_dtype_int,'fuelType': convert_dtype_str,'tax': convert_dtype_int,'mpg': convert_dtype_float,'engineSize': convert_dtype_float})\n",
    "hyundaidf = pd.read_csv(hyundaiurl,names=col_names, converters={'model': convert_dtype_str,'year': convert_dtype_datetime,'price': convert_dtype_float,'transmission': convert_dtype_str,'mileage': convert_dtype_int,'fuelType': convert_dtype_str,'tax': convert_dtype_int,'mpg': convert_dtype_float,'engineSize': convert_dtype_float})\n",
    "mercdf = pd.read_csv(mercurl,names=col_names, converters={'model': convert_dtype_str,'year': convert_dtype_datetime,'price': convert_dtype_float,'transmission': convert_dtype_str,'mileage': convert_dtype_int,'fuelType': convert_dtype_str,'tax': convert_dtype_int,'mpg': convert_dtype_float,'engineSize': convert_dtype_float})\n",
    "skodadf = pd.read_csv(skodaurl,names=col_names, converters={'model': convert_dtype_str,'year': convert_dtype_datetime,'price': convert_dtype_float,'transmission': convert_dtype_str,'mileage': convert_dtype_int,'fuelType': convert_dtype_str,'tax': convert_dtype_int,'mpg': convert_dtype_float,'engineSize': convert_dtype_float})\n",
    "toyotadf = pd.read_csv(toyotaurl,names=col_names, converters={'model': convert_dtype_str,'year': convert_dtype_datetime,'price': convert_dtype_float,'transmission': convert_dtype_str,'mileage': convert_dtype_int,'fuelType': convert_dtype_str,'tax': convert_dtype_int,'mpg': convert_dtype_float,'engineSize': convert_dtype_float})\n",
    "vauxhalldf = pd.read_csv(vauxhallurl,names=col_names, converters={'model': convert_dtype_str,'year': convert_dtype_datetime,'price': convert_dtype_float,'transmission': convert_dtype_str,'mileage': convert_dtype_int,'fuelType': convert_dtype_str,'tax': convert_dtype_int,'mpg': convert_dtype_float,'engineSize': convert_dtype_float})\n",
    "vwdf = pd.read_csv(vwurl,names=col_names, converters={'model': convert_dtype_str,'year': convert_dtype_datetime,'price': convert_dtype_float,'transmission': convert_dtype_str,'mileage': convert_dtype_int,'fuelType': convert_dtype_str,'tax': convert_dtype_int,'mpg': convert_dtype_float,'engineSize': convert_dtype_float})\n"
   ]
  },
  {
   "cell_type": "code",
   "execution_count": 7,
   "id": "41cb8752",
   "metadata": {},
   "outputs": [],
   "source": [
    "dfcollection = [audidf,bmwdf,cclassdf,focusdf,forddf,hyundaidf,mercdf,skodadf,toyotadf,vauxhalldf,vwdf]"
   ]
  },
  {
   "cell_type": "markdown",
   "id": "bb28216f",
   "metadata": {},
   "source": [
    "### Checking to see if the dataframes were read properly"
   ]
  },
  {
   "cell_type": "code",
   "execution_count": 9,
   "id": "131d5c28",
   "metadata": {},
   "outputs": [],
   "source": [
    "for each in dfcollection:\n",
    "    each = each.iloc[1:]\n",
    "    each.head()"
   ]
  },
  {
   "cell_type": "code",
   "execution_count": 10,
   "id": "37ee7dbc",
   "metadata": {},
   "outputs": [
    {
     "data": {
      "text/html": [
       "<div>\n",
       "<style scoped>\n",
       "    .dataframe tbody tr th:only-of-type {\n",
       "        vertical-align: middle;\n",
       "    }\n",
       "\n",
       "    .dataframe tbody tr th {\n",
       "        vertical-align: top;\n",
       "    }\n",
       "\n",
       "    .dataframe thead th {\n",
       "        text-align: right;\n",
       "    }\n",
       "</style>\n",
       "<table border=\"1\" class=\"dataframe\">\n",
       "  <thead>\n",
       "    <tr style=\"text-align: right;\">\n",
       "      <th></th>\n",
       "      <th>model</th>\n",
       "      <th>year</th>\n",
       "      <th>price</th>\n",
       "      <th>transmission</th>\n",
       "      <th>mileage</th>\n",
       "      <th>fuelType</th>\n",
       "      <th>tax</th>\n",
       "      <th>mpg</th>\n",
       "      <th>engineSize</th>\n",
       "    </tr>\n",
       "  </thead>\n",
       "  <tbody>\n",
       "    <tr>\n",
       "      <th>0</th>\n",
       "      <td>model</td>\n",
       "      <td></td>\n",
       "      <td></td>\n",
       "      <td>transmission</td>\n",
       "      <td></td>\n",
       "      <td>fuelType</td>\n",
       "      <td></td>\n",
       "      <td></td>\n",
       "      <td></td>\n",
       "    </tr>\n",
       "    <tr>\n",
       "      <th>1</th>\n",
       "      <td>A1</td>\n",
       "      <td></td>\n",
       "      <td>12500.0</td>\n",
       "      <td>Manual</td>\n",
       "      <td>15735</td>\n",
       "      <td>Petrol</td>\n",
       "      <td>150</td>\n",
       "      <td>55.4</td>\n",
       "      <td>1.4</td>\n",
       "    </tr>\n",
       "    <tr>\n",
       "      <th>2</th>\n",
       "      <td>A6</td>\n",
       "      <td></td>\n",
       "      <td>16500.0</td>\n",
       "      <td>Automatic</td>\n",
       "      <td>36203</td>\n",
       "      <td>Diesel</td>\n",
       "      <td>20</td>\n",
       "      <td>64.2</td>\n",
       "      <td>2.0</td>\n",
       "    </tr>\n",
       "    <tr>\n",
       "      <th>3</th>\n",
       "      <td>A1</td>\n",
       "      <td></td>\n",
       "      <td>11000.0</td>\n",
       "      <td>Manual</td>\n",
       "      <td>29946</td>\n",
       "      <td>Petrol</td>\n",
       "      <td>30</td>\n",
       "      <td>55.4</td>\n",
       "      <td>1.4</td>\n",
       "    </tr>\n",
       "    <tr>\n",
       "      <th>4</th>\n",
       "      <td>A4</td>\n",
       "      <td></td>\n",
       "      <td>16800.0</td>\n",
       "      <td>Automatic</td>\n",
       "      <td>25952</td>\n",
       "      <td>Diesel</td>\n",
       "      <td>145</td>\n",
       "      <td>67.3</td>\n",
       "      <td>2.0</td>\n",
       "    </tr>\n",
       "  </tbody>\n",
       "</table>\n",
       "</div>"
      ],
      "text/plain": [
       "   model year    price  transmission mileage  fuelType  tax   mpg engineSize\n",
       "0  model                transmission          fuelType                      \n",
       "1     A1       12500.0        Manual   15735    Petrol  150  55.4        1.4\n",
       "2     A6       16500.0     Automatic   36203    Diesel   20  64.2        2.0\n",
       "3     A1       11000.0        Manual   29946    Petrol   30  55.4        1.4\n",
       "4     A4       16800.0     Automatic   25952    Diesel  145  67.3        2.0"
      ]
     },
     "execution_count": 10,
     "metadata": {},
     "output_type": "execute_result"
    }
   ],
   "source": [
    "audidf.head()"
   ]
  },
  {
   "cell_type": "code",
   "execution_count": null,
   "id": "3810726c",
   "metadata": {},
   "outputs": [],
   "source": []
  }
 ],
 "metadata": {
  "kernelspec": {
   "display_name": "Python 3",
   "language": "python",
   "name": "python3"
  },
  "language_info": {
   "codemirror_mode": {
    "name": "ipython",
    "version": 3
   },
   "file_extension": ".py",
   "mimetype": "text/x-python",
   "name": "python",
   "nbconvert_exporter": "python",
   "pygments_lexer": "ipython3",
   "version": "3.8.10"
  }
 },
 "nbformat": 4,
 "nbformat_minor": 5
}
